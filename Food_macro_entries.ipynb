{
 "cells": [
  {
   "cell_type": "code",
   "execution_count": 7,
   "id": "3dd30959-b9c4-444e-8f43-a31442b16513",
   "metadata": {},
   "outputs": [],
   "source": [
    "import requests\n",
    "from datetime import datetime"
   ]
  },
  {
   "cell_type": "code",
   "execution_count": 8,
   "id": "c2ab2247-30fe-4b0d-9613-03a6a39e9834",
   "metadata": {},
   "outputs": [
    {
     "data": {
      "text/plain": [
       "'2025-03-15'"
      ]
     },
     "execution_count": 8,
     "metadata": {},
     "output_type": "execute_result"
    }
   ],
   "source": []
  },
  {
   "cell_type": "code",
   "execution_count": 2,
   "id": "8d5f690f-fe09-460e-a66e-1ce5e81bcffb",
   "metadata": {},
   "outputs": [
    {
     "name": "stdout",
     "output_type": "stream",
     "text": [
      "200 [\"Meal 3\",\"Breakfast\",\"Chicken Vegetables\",\"Isolate Shake\",\"Beef Potato Dinner\"]\n"
     ]
    }
   ],
   "source": [
    "response = requests.get(\"http://127.0.0.1:8000/meals/names\")\n",
    "print(response.status_code, response.text)\n"
   ]
  },
  {
   "cell_type": "code",
   "execution_count": 2,
   "id": "0734a05c-82ab-4754-8106-a372ac6c1e47",
   "metadata": {},
   "outputs": [
    {
     "name": "stdout",
     "output_type": "stream",
     "text": [
      "Status Code: 200\n",
      "Response: {'model': 'llama3.2', 'created_at': '2025-03-06T20:58:32.3361524Z', 'response': \"Here's a suggestion for a meal that provides approximately 500 kcal and 30g of protein:\\n\\n**Grilled Chicken Breast with Quinoa and Vegetables**\\n\\n* 1 grilled chicken breast (4 oz, 120g): 140 kcal, 25g protein\\n* 1/2 cup cooked quinoa: 100 kcal, 4g protein\\n* 1 cup mixed vegetables (such as broccoli, carrots, bell peppers): 50 kcal, 2g protein\\n\\nTotal calories: approximately 290 kcal\\nTotal protein: approximately 31g\\n\\nTo add some healthy fats and fiber to the meal, you could also include:\\n\\n* 1 tablespoon olive oil: 120 kcal, negligible protein\\n* 1/4 cup chopped nuts or seeds (such as almonds or pumpkin seeds): 100 kcal, 2g protein\\n\\nTotal calories with added ingredients: approximately 510 kcal\\nTotal protein with added ingredients: approximately 33g\\n\\nThis meal provides a balanced mix of protein, complex carbohydrates, and healthy fats, while staying within the desired calorie and protein ranges. However, please note that exact nutrition values may vary depending on specific ingredient brands and portion sizes.\\n\\nFeel free to adjust the serving size or ingredients based on your personal preferences and dietary needs!\", 'done': True, 'done_reason': 'stop', 'context': [128006, 9125, 128007, 271, 38766, 1303, 33025, 2696, 25, 6790, 220, 2366, 18, 271, 128009, 128006, 882, 128007, 271, 50, 3884, 264, 15496, 369, 220, 2636, 96103, 323, 220, 966, 70, 13128, 13, 128009, 128006, 78191, 128007, 271, 8586, 596, 264, 24710, 369, 264, 15496, 430, 5825, 13489, 220, 2636, 96103, 323, 220, 966, 70, 315, 13128, 1473, 334, 6600, 4473, 34619, 57598, 449, 3489, 80094, 323, 43800, 4893, 57277, 9, 220, 16, 61733, 16553, 17659, 320, 19, 25616, 11, 220, 4364, 70, 1680, 220, 6860, 96103, 11, 220, 914, 70, 13128, 198, 9, 220, 16, 14, 17, 10747, 30205, 934, 80094, 25, 220, 1041, 96103, 11, 220, 19, 70, 13128, 198, 9, 220, 16, 10747, 9709, 24822, 320, 21470, 439, 79276, 11, 62517, 11, 29519, 58573, 1680, 220, 1135, 96103, 11, 220, 17, 70, 13128, 271, 7749, 25247, 25, 13489, 220, 13754, 96103, 198, 7749, 13128, 25, 13489, 220, 2148, 70, 271, 1271, 923, 1063, 9498, 50127, 323, 24722, 311, 279, 15496, 11, 499, 1436, 1101, 2997, 1473, 9, 220, 16, 62611, 33213, 5707, 25, 220, 4364, 96103, 11, 82802, 13128, 198, 9, 220, 16, 14, 19, 10747, 38525, 31049, 477, 19595, 320, 21470, 439, 88922, 477, 50625, 19595, 1680, 220, 1041, 96103, 11, 220, 17, 70, 13128, 271, 7749, 25247, 449, 3779, 14293, 25, 13489, 220, 15633, 96103, 198, 7749, 13128, 449, 3779, 14293, 25, 13489, 220, 1644, 70, 271, 2028, 15496, 5825, 264, 24770, 6651, 315, 13128, 11, 6485, 62345, 11, 323, 9498, 50127, 11, 1418, 19994, 2949, 279, 12974, 52703, 323, 13128, 21986, 13, 4452, 11, 4587, 5296, 430, 4839, 26677, 2819, 1253, 13592, 11911, 389, 3230, 25795, 16097, 323, 13651, 12562, 382, 34027, 1949, 311, 7652, 279, 13788, 1404, 477, 14293, 3196, 389, 701, 4443, 19882, 323, 34625, 3966, 0], 'total_duration': 4152158700, 'load_duration': 1349011500, 'prompt_eval_count': 39, 'prompt_eval_duration': 130000000, 'eval_count': 258, 'eval_duration': 2663000000}\n"
     ]
    }
   ],
   "source": [
    "ollama_url = \"http://localhost:11434/api/generate\"\n",
    "data = {\"model\": \"llama3.2\", \"prompt\": \"Suggest a meal for 500 kcal and 30g protein.\", \"stream\": False}\n",
    "\n",
    "response = requests.post(ollama_url, json=data)\n",
    "print(\"Status Code:\", response.status_code)\n",
    "print(\"Response:\", response.json())\n",
    "\n"
   ]
  },
  {
   "cell_type": "code",
   "execution_count": 6,
   "id": "37fe7505-b3bc-4633-801e-20de1eb6f37e",
   "metadata": {},
   "outputs": [
    {
     "name": "stdout",
     "output_type": "stream",
     "text": [
      "Status Code: 200\n",
      "Response Text: {\"meals\":[{\"meal\":\"Breakfast\",\"foods\":[\"Oats\",\"White potatoes\"],\"grams\":60,\"calories\":341,\"protein\":11.3,\"carbs\":31.9,\"fats\":1.4},{\"meal\":\"Lunch\",\"foods\":[\"Chicken Breast\",\"White potatoes\"],\"grams\":72,\"calories\":341,\"protein\":29.2,\"carbs\":23.9,\"fats\":4},{\"meal\":\"Dinner\",\"foods\":[\"Chicken Breast\",\"Oats\"],\"grams\":70,\"calories\":261,\"protein\":28.6,\"carbs\":37.8,\"fats\":4}]}\n"
     ]
    }
   ],
   "source": [
    "response = requests.post(\"http://127.0.0.1:8000/generate_meal/\", json={\"calories\": 500, \"protein\": 30, \"carbs\": 50, \"fats\": 10})\n",
    "\n",
    "print(\"Status Code:\", response.status_code)\n",
    "print(\"Response Text:\", response.text)"
   ]
  },
  {
   "cell_type": "code",
   "execution_count": 4,
   "id": "3d3a7179-2987-4d70-ad93-0fc1e8979cd6",
   "metadata": {},
   "outputs": [
    {
     "name": "stdout",
     "output_type": "stream",
     "text": [
      "Status Code: 200\n",
      "Response Text: {\"error\":\"Unexpected error: name 'ollama_response' is not defined\"}\n"
     ]
    }
   ],
   "source": [
    "### Test API to generate Meal Plan\n",
    "\n",
    "API_URL = \"http://127.0.0.1:8000/generate_meal/\"\n",
    "\n",
    "data = {\n",
    "    \"calories\": 500,\n",
    "    \"protein\": 30,\n",
    "    \"carbs\": 50,\n",
    "    \"fats\": 10\n",
    "}\n",
    "\n",
    "response = requests.post(API_URL, json=data)\n",
    "\n",
    "print(\"Status Code:\", response.status_code)\n",
    "print(\"Response Text:\", response.text)  # Check if it's empty or contains errors\n"
   ]
  },
  {
   "cell_type": "code",
   "execution_count": 6,
   "id": "3c4b1531-8c02-4c30-91a3-ca3f8a961e47",
   "metadata": {},
   "outputs": [
    {
     "name": "stdout",
     "output_type": "stream",
     "text": [
      "Status Code: 500\n",
      "Response Text: Internal Server Error\n"
     ]
    }
   ],
   "source": [
    "response = requests.post(\"http://127.0.0.1:8000/generate_meal/\", json={\"calories\": 500, \"protein\": 30, \"carbs\": 50, \"fats\": 10})\n",
    "\n",
    "print(\"Status Code:\", response.status_code)\n",
    "print(\"Response Text:\", response.text)\n",
    "\n"
   ]
  },
  {
   "cell_type": "code",
   "execution_count": 21,
   "id": "9a52d17f-bca2-431d-8658-f51842044b6b",
   "metadata": {},
   "outputs": [
    {
     "name": "stdout",
     "output_type": "stream",
     "text": [
      "Current Database Structure:\n",
      "(0, 'name', 'VARCHAR', 1, None, 1)\n",
      "(1, 'calories', 'FLOAT', 1, None, 0)\n",
      "(2, 'protein', 'FLOAT', 1, None, 0)\n",
      "(3, 'carbs', 'FLOAT', 1, None, 0)\n",
      "(4, 'fats', 'FLOAT', 1, None, 0)\n"
     ]
    }
   ],
   "source": [
    "import sqlite3\n",
    "\n",
    "conn = sqlite3.connect(\"food_macros.db\")\n",
    "cursor = conn.cursor()\n",
    "\n",
    "# Show table structure\n",
    "cursor.execute(\"PRAGMA table_info(foods)\")\n",
    "columns = cursor.fetchall()\n",
    "\n",
    "print(\"Current Database Structure:\")\n",
    "for col in columns:\n",
    "    print(col)\n",
    "\n",
    "conn.close()\n"
   ]
  },
  {
   "cell_type": "code",
   "execution_count": 1,
   "id": "72f1294c-1ce9-47d8-9125-d772e9613dae",
   "metadata": {},
   "outputs": [
    {
     "name": "stdout",
     "output_type": "stream",
     "text": [
      "Database updated: 'fiber' column removed.\n"
     ]
    }
   ],
   "source": [
    "### Updating Database (in this case to remove Fiber)\n",
    "import sqlite3\n",
    "\n",
    "# Connect to the database\n",
    "conn = sqlite3.connect(\"food_macros.db\")\n",
    "cursor = conn.cursor()\n",
    "\n",
    "# Step 1: Rename the old table\n",
    "cursor.execute(\"ALTER TABLE foods RENAME TO old_foods\")\n",
    "\n",
    "# Step 2: Create a new table without 'fiber'\n",
    "cursor.execute(\"\"\"\n",
    "    CREATE TABLE foods (\n",
    "        name TEXT PRIMARY KEY,\n",
    "        calories REAL NOT NULL,\n",
    "        protein REAL NOT NULL,\n",
    "        carbs REAL NOT NULL,\n",
    "        fats REAL NOT NULL\n",
    "    )\n",
    "\"\"\")\n",
    "\n",
    "# Step 3: Copy data from old table to new table\n",
    "cursor.execute(\"\"\"\n",
    "    INSERT INTO foods (name, calories, protein, carbs, fats)\n",
    "    SELECT name, calories, protein, carbs, fats FROM old_foods\n",
    "\"\"\")\n",
    "\n",
    "# Step 4: Drop the old table\n",
    "cursor.execute(\"DROP TABLE old_foods\")\n",
    "\n",
    "# Commit and close\n",
    "conn.commit()\n",
    "conn.close()\n",
    "\n",
    "print(\"Database updated: 'fiber' column removed.\")\n"
   ]
  },
  {
   "cell_type": "code",
   "execution_count": 22,
   "id": "8dfc477c-f571-4382-9ea1-0ef3c4610cdb",
   "metadata": {},
   "outputs": [
    {
     "name": "stdout",
     "output_type": "stream",
     "text": [
      "Updated Database Structure:\n",
      "(0, 'name', 'VARCHAR', 1, None, 1)\n",
      "(1, 'calories', 'FLOAT', 1, None, 0)\n",
      "(2, 'protein', 'FLOAT', 1, None, 0)\n",
      "(3, 'carbs', 'FLOAT', 1, None, 0)\n",
      "(4, 'fats', 'FLOAT', 1, None, 0)\n"
     ]
    }
   ],
   "source": [
    "conn = sqlite3.connect(\"food_macros.db\")\n",
    "cursor = conn.cursor()\n",
    "\n",
    "# Show final table structure\n",
    "cursor.execute(\"PRAGMA table_info(foods)\")\n",
    "columns = cursor.fetchall()\n",
    "\n",
    "print(\"Updated Database Structure:\")\n",
    "for col in columns:\n",
    "    print(col)\n",
    "\n",
    "conn.close()\n"
   ]
  },
  {
   "cell_type": "code",
   "execution_count": 3,
   "id": "a272e297-b87e-402e-b441-769d954ee5a3",
   "metadata": {},
   "outputs": [
    {
     "name": "stdout",
     "output_type": "stream",
     "text": [
      "Deleted all entries with meal_name 'Z'morge Oats' and 'Lean Beef Potato Dinner'.\n"
     ]
    }
   ],
   "source": [
    "import sqlite3\n",
    "import pandas as pd\n",
    "\n",
    "\n",
    "# Connect to the database\n",
    "conn = sqlite3.connect(\"food_macros.db\")\n",
    "cursor = conn.cursor()\n",
    "\n",
    "# Delete meals with specific meal names\n",
    "cursor.execute(\"DELETE FROM meals WHERE meal_name IN (?, ?);\", (\"Bedtime Snack\", \"Lean Beef Potato Dinner\"))\n",
    "\n",
    "# Commit the changes and close the connection\n",
    "conn.commit()\n",
    "conn.close()\n",
    "\n",
    "print(\"Deleted all entries with meal_name 'Z'morge Oats' and 'Lean Beef Potato Dinner'.\")\n"
   ]
  },
  {
   "cell_type": "code",
   "execution_count": null,
   "id": "46a6d538-f406-4bdd-beef-ed9dd807cbc7",
   "metadata": {},
   "outputs": [],
   "source": []
  }
 ],
 "metadata": {
  "kernelspec": {
   "display_name": "food_macro_tracker",
   "language": "python",
   "name": "food_macro_tracker"
  },
  "language_info": {
   "codemirror_mode": {
    "name": "ipython",
    "version": 3
   },
   "file_extension": ".py",
   "mimetype": "text/x-python",
   "name": "python",
   "nbconvert_exporter": "python",
   "pygments_lexer": "ipython3",
   "version": "3.12.9"
  }
 },
 "nbformat": 4,
 "nbformat_minor": 5
}
